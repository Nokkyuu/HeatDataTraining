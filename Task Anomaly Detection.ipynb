{
 "cells": [
  {
   "cell_type": "markdown",
   "metadata": {},
   "source": [
    "# Welcome at SigmaHeat"
   ]
  },
  {
   "cell_type": "markdown",
   "metadata": {},
   "source": [
    "We're excited that you're interested in joining our team. To help us get a sense of how you approach data-driven problems, we’ve put together a task that reflects some of the challenges and opportunities you might encounter in the role.\n",
    "\n",
    "This isn’t about finding the “one right answer” - we will be looking at quality, speed, readability and documentation. We’re much more interested in how you think, how you structure your approach, and how you communicate your insights. So feel free to be creative, explore the data, and show us how you work.\n",
    "\n",
    "We’re looking forward to seeing your ideas in action - have fun with it!"
   ]
  },
  {
   "cell_type": "markdown",
   "metadata": {},
   "source": [
    "### Technical Information\n",
    "<u>Anomalies in Heating Systems</u>\n",
    "\n",
    "During the operation of heating systems many different anomalies and malfunctions can occur. This can lead to (partial) failure of the heating system and dissatisfied residents and needs to be dealt with quickly. To accelerate the process it is important to detect anomalies quickly, before even the residents notice, and - if necessary - send out a technician to fix the problem.\n",
    "\n",
    "A common point of failure are circulation pumps that transport hot water from the heat source to the radiators (or circulate domestic hot water). This is usually <u><b>indicated by a drop in (forward) flow temperature behind the pump</b></u>, because no hot water is pushed through the piping anymore. Other points of failure include failure of the heatsource itself, mixing valves that stop opening or closing or defective temperature sensors that impact the control of the heat source.\n",
    "\n",
    "<u>Additional technical information that might be useful for the task:</u>\n",
    "- many heating systems have periods for reduced operation (usually during the night), where the forward flow temperature is reduced to save energy. This can also induce a drop in forward flow temperatur, but is not considered an anomaly\n",
    "- the forward flow temperature in heating systems is usually related to the outside temperature (low outside temperatures -> high forward flow temperatures). Fluctations in forward flow temperatures are expected to some extent\n",
    "- drinking water temperatures are not related to outside temperatures and should stay relatively constant at all times"
   ]
  },
  {
   "cell_type": "markdown",
   "metadata": {},
   "source": [
    "### Task\n",
    "You are given different, uncategorized datasets of temperatures in different heating systems. Your task is to develop model(s) or algorithm(s) that analyses the dataset and returns time ranges where anomalies have been detected. It is up to you whether you use some or all the given datasets as an input, or focus on anomalies within a single dataset. If possible, you can also start developing a model that can predict anomalies in real time. \n",
    "\n",
    "This is a very creative task. Feel free to approach this problem any way you want, just make sure to document your ideas. There are no set requirements for this task, just the periods with anomalies should be clearly identifiable (example output shown below)."
   ]
  },
  {
   "cell_type": "code",
   "execution_count": null,
   "metadata": {},
   "outputs": [],
   "source": [
    "def find_anomaly(dataset):\n",
    "    # your code goes here\n",
    "    anomalies = {\n",
    "        \"Period 1\": [start_weekday, start_time, end_weekday, end_time],\n",
    "        \"Period 2\": [start_weekday, start_time, end_weekday, end_time],\n",
    "        ...\n",
    "        }\n",
    "        \n",
    "    return anomalies"
   ]
  }
 ],
 "metadata": {
  "kernelspec": {
   "display_name": ".venv",
   "language": "python",
   "name": "python3"
  },
  "language_info": {
   "codemirror_mode": {
    "name": "ipython",
    "version": 3
   },
   "file_extension": ".py",
   "mimetype": "text/x-python",
   "name": "python",
   "nbconvert_exporter": "python",
   "pygments_lexer": "ipython3",
   "version": "3.12.2"
  }
 },
 "nbformat": 4,
 "nbformat_minor": 2
}
